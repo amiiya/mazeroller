{
 "cells": [
  {
   "cell_type": "markdown",
   "metadata": {},
   "source": [
    "# Maze Roller --> Step 1"
   ]
  },
  {
   "cell_type": "markdown",
   "metadata": {},
   "source": [
    "## Echtdaten einlesen"
   ]
  },
  {
   "cell_type": "code",
   "execution_count": 23,
   "metadata": {
    "collapsed": true
   },
   "outputs": [],
   "source": [
    "fileName=\"beideAchsen\""
   ]
  },
  {
   "cell_type": "code",
   "execution_count": 24,
   "metadata": {
    "collapsed": true
   },
   "outputs": [],
   "source": [
    "%matplotlib inline\n",
    "import matplotlib.pyplot as plt\n",
    "import pandas as pd\n",
    "import numpy as np\n",
    "import sympy as sp\n",
    "import scipy.linalg as linalg\n",
    "sp.init_printing(use_latex='mathjax')"
   ]
  },
  {
   "cell_type": "code",
   "execution_count": 32,
   "metadata": {
    "collapsed": true
   },
   "outputs": [],
   "source": [
    "def ReadData(NameDerMessreihe, tstart=0, tend=None, info=False):\n",
    "    lines = open('%s_daten.csv'%NameDerMessreihe, 'r').readlines()\n",
    "    del lines[-1]\n",
    "    del lines[0]\n",
    "    open('%s_daten.csv'%NameDerMessreihe, 'w').writelines(lines) \n",
    "    \n",
    "    src=open('%s_daten.csv'%NameDerMessreihe,\"r\")\n",
    "    fline=\"time,GyroX,GyroY,GyroZ,AccX,AccY,AccZ,GyroX2,GyroY2,GyroZ2,AccX2,AccY2,AccZ2\\n\"    #Prepending string\n",
    "    oline=src.readlines()\n",
    "    oline.insert(0,fline)\n",
    "    src.close()\n",
    "    src=open('%s_daten.csv'%NameDerMessreihe,\"w\")\n",
    "    src.writelines(oline)\n",
    "    src.close()\n",
    "    \n",
    "    data = pd.read_csv('%s_daten.csv'%NameDerMessreihe)\n",
    "    data.time /= 1000                        #Umwandlung in Sekunden\n",
    "    data.time -= data.time[0]                #Erste Messung auf t=0s setzen\n",
    "    data = data[data.time>=tstart]\n",
    "    if tend is not None:\n",
    "        data = data[data.time<=tend]\n",
    "\n",
    "    \n",
    "    if info:\n",
    "        with open('%s_beschreibung.txt'%NameDerMessreihe, encoding='utf-8') as fd:\n",
    "            print(fd.read())\n",
    "            \n",
    "        display(data.head(5))\n",
    "#        display(data.tail(3))\n",
    "    return data\n",
    "#data = ReadData(fileName, info=True)"
   ]
  },
  {
   "cell_type": "markdown",
   "metadata": {
    "collapsed": true
   },
   "source": [
    "# Kalman-Filter (mit einem Sensor)"
   ]
  },
  {
   "cell_type": "markdown",
   "metadata": {},
   "source": [
    "Unser Systemzustand x, wobei $\\dot{\\phi} $ die Ableitung vom Winkel darstellt:\n",
    "$$     x =\\left[\\begin{matrix}\\phi\\\\\n",
    "       \\dot{\\phi}\\\\\n",
    "       \\phi_{Offset}\\\\\n",
    "       \\end{matrix}\\right]\n",
    "$$\n",
    "\n",
    "Unsere Messwerte y: \n",
    "$$     y =\\left[\\begin{matrix}gyro.x\\\\\n",
    "       \\end{matrix}\\right]\n",
    "$$"
   ]
  },
  {
   "cell_type": "markdown",
   "metadata": {},
   "source": [
    "## Systemtransfer-Matrix"
   ]
  },
  {
   "cell_type": "code",
   "execution_count": 26,
   "metadata": {},
   "outputs": [
    {
     "data": {
      "text/latex": [
       "$$\\left[\\begin{matrix}1.0 & 1.0 Ts & 0\\\\0 & 1 & 0\\\\0 & 0 & 1\\end{matrix}\\right]$$"
      ],
      "text/plain": [
       "⎡1.0  1.0⋅Ts  0⎤\n",
       "⎢              ⎥\n",
       "⎢ 0     1     0⎥\n",
       "⎢              ⎥\n",
       "⎣ 0     0     1⎦"
      ]
     },
     "execution_count": 26,
     "metadata": {},
     "output_type": "execute_result"
    }
   ],
   "source": [
    "A = np.matrix([\n",
    "    [0, 1, 0],\n",
    "    [0, 0, 0],\n",
    "    [0, 0, 0]\n",
    "])\n",
    "Ts_sym = sp.symbols('Ts')\n",
    "sp.exp( sp.Matrix(A) * Ts_sym)"
   ]
  },
  {
   "cell_type": "code",
   "execution_count": 27,
   "metadata": {},
   "outputs": [
    {
     "data": {
      "text/plain": [
       "matrix([[ 1.   ,  0.033,  0.   ],\n",
       "        [ 0.   ,  1.   ,  0.   ],\n",
       "        [ 0.   ,  0.   ,  1.   ]])"
      ]
     },
     "execution_count": 27,
     "metadata": {},
     "output_type": "execute_result"
    }
   ],
   "source": [
    "Ad = np.eye(3) + Ts*A \n",
    "Ad"
   ]
  },
  {
   "cell_type": "markdown",
   "metadata": {},
   "source": [
    "Die Control-Input B entfällt in folgendem durch fehlendem u(t):\n",
    "\n",
    "$$     x_{n+1} = Ad_{x_n} + Gd_{z_n} $$\n",
    "\n",
    "$$\n",
    "       \\left[\\begin{matrix}\\phi_{n+1}\\\\\n",
    "       \\dot{\\phi_{n+1}}\\\\\n",
    "       \\phi_{Offset}\\\\\n",
    "       \\end{matrix}\\right] = \\left[\\begin{matrix} 1 & Ts & 0\\\\\n",
    "       0 & 1 & 0\\\\\n",
    "       0 & 0 & 1\\\\\n",
    "       \\end{matrix}\\right] \\cdot \\left[\\begin{matrix}\\phi_{n}\\\\\n",
    "       \\dot{\\phi_{n}}\\\\\n",
    "       \\phi_{Offset}\\\\\n",
    "       \\end{matrix}\\right]\n",
    "$$\n",
    "\n",
    "Für unseren Sensor gilt:\n",
    "$$ \\phi_{neu} = \\phi_{alt} + \\dot{\\phi_{alt}} \\cdot Ts - \\phi_{Offset} \\cdot Ts $$\n",
    "\n",
    "Den Offset bringen wir durch unseren Vektor C hinein. In A ist dies nicht möglich, da dann ein Fehler in der Konsistenz entsteht."
   ]
  },
  {
   "cell_type": "code",
   "execution_count": 28,
   "metadata": {
    "collapsed": true
   },
   "outputs": [],
   "source": [
    "#x =  [phi,\n",
    "#      phidot,\n",
    "#      gyrooffset]\n",
    "\n",
    "A = np.matrix([\n",
    "    [0, 1, 0],\n",
    "    [0, 0, 0],\n",
    "    [0, 0, 0]\n",
    "])\n",
    "\n",
    "#A * x =  [phidot - gyrooffset, \n",
    "#           0,\n",
    "#        ´  0]\n",
    "#xdot = A * x\n",
    "\n",
    "Ad = np.matrix([\n",
    "    [1, Ts, 0],\n",
    "    [0, 1, 0],\n",
    "    [0, 0, 1]\n",
    "])\n",
    "\n",
    "#x_k = Ad * x_k-1"
   ]
  },
  {
   "cell_type": "markdown",
   "metadata": {},
   "source": [
    "## Die Messmatrix C\n",
    "\n",
    "$$ y = \\dot{\\phi} - \\phi_{Offset}\\\\\n",
    "y = C \\cdot x = \\left[\\begin{matrix} 0 & 1 & -1\\\\\n",
    "       \\end{matrix}\\right] \\cdot \\left[\\begin{matrix}\\phi\\\\\n",
    "       \\dot{\\phi}\\\\\n",
    "       \\phi_{Offset}\\\\\n",
    "       \\end{matrix}\\right] $$ "
   ]
  },
  {
   "cell_type": "code",
   "execution_count": 29,
   "metadata": {
    "collapsed": true
   },
   "outputs": [],
   "source": [
    "#C*x = phidot\n",
    "\n",
    "C = np.matrix([\n",
    "    [0, 1, -1]\n",
    "])"
   ]
  },
  {
   "cell_type": "markdown",
   "metadata": {},
   "source": [
    "## Das Prozessrauschen\n",
    "\n",
    "$$\n",
    "\\dot{\\mathbf x}(t) = A\\mathbf x(t) + B\\mathbf u(t) + G \\mathbf z(t)\n",
    "$$\n",
    "$$\n",
    "\\left[\\begin{matrix}\\dot{\\phi}\\\\\n",
    "       \\ddot{\\phi}\\\\\n",
    "       \\dot{\\phi_{Offset}}\\\\\n",
    "       \\end{matrix}\\right] = \\left[\\begin{matrix} 0 & 1 & 0\\\\\n",
    "       0 & 0 & 0\\\\\n",
    "       0 & 0 & 0\\\\\n",
    "       \\end{matrix}\\right] \\cdot \\left[\\begin{matrix}\\phi\\\\\n",
    "       \\dot{\\phi}\\\\\n",
    "       \\phi_{Offset}\\\\\n",
    "       \\end{matrix}\\right] + \\left[\\begin{matrix}0\\\\\n",
    "       z_1\\\\\n",
    "       z_2\\\\\n",
    "       \\end{matrix}\\right]\n",
    "$$\n",
    "\n",
    "Im folgenden wird $G$ gebildet:\n",
    "$$\n",
    " G = \\left[\\begin{matrix}0\\\\\n",
    "       z_1\\\\\n",
    "       z_2\\\\\n",
    "       \\end{matrix}\\right] =  \\left[\\begin{matrix}0 & 0\\\\\n",
    "       1 & 0\\\\\n",
    "       0 & 1 \\\\\n",
    "       \\end{matrix}\\right] \\cdot \\left[\\begin{matrix}z_1\\\\\n",
    "       z_2\\\\\n",
    "       \\end{matrix}\\right]\n",
    "$$\n",
    "Im folgenden wird $G_d$ gebildet:\n",
    "$$\n",
    " G_d = \\int\\limits_{0}^{T_s} A_d \\cdot G\\, d\\tau = \n",
    " \\int\\limits_{0}^{T_s} \\begin{bmatrix}1&Ts&0\\\\0&1&0\\\\0&0&1\\end{bmatrix} \\cdot  \n",
    " \\left[\\begin{matrix}0 & 0\\\\1 & 0\\\\0 & 1\\end{matrix}\\right] \n",
    " \\, d\\tau\n",
    " = \\int\\limits_{0}^{T_s} \\begin{bmatrix}Ts&0\\\\1&0\\\\0&1\\end{bmatrix}\\, d\\tau\n",
    "$$\n",
    "$$\n",
    " G_d = \\begin{bmatrix}1/2Ts^2&0\\\\Ts&0\\\\0&Ts\\end{bmatrix}\\\n",
    "$$"
   ]
  },
  {
   "cell_type": "code",
   "execution_count": 30,
   "metadata": {
    "collapsed": true
   },
   "outputs": [],
   "source": [
    "Gd = np.matrix([[0.5*Ts**2, 0], \n",
    "                [Ts, 0], \n",
    "                [0, Ts]])"
   ]
  },
  {
   "cell_type": "markdown",
   "metadata": {},
   "source": [
    "## Der Filter"
   ]
  },
  {
   "cell_type": "code",
   "execution_count": 36,
   "metadata": {},
   "outputs": [
    {
     "data": {
      "text/plain": [
       "<matplotlib.legend.Legend at 0x7f32bd60d630>"
      ]
     },
     "execution_count": 36,
     "metadata": {},
     "output_type": "execute_result"
    },
    {
     "data": {
      "image/png": "[encoded data removed]",
      "text/plain": [
       "<Figure size 2160x360 with 1 Axes>"
      ]
     },
     "metadata": {},
     "output_type": "display_data"
    }
   ],
   "source": [
    "data = ReadData(fileName, info=False)\n",
    "Ts = 8.9e-3 #Das hier ist die Zeitbasis aus Ihren Daten\n",
    "\n",
    "y_phi = np.arctan2(data.AccY, data.AccZ) / np.pi * 180\n",
    "y_gyro = np.array(data.GyroX)\n",
    "y = y_gyro\n",
    "#y = np.concatenate( (y_phi[:,np.newaxis], y_gyro[:,np.newaxis]), axis=1)\n",
    "\n",
    "#Hier kommt Ihr Filter\n",
    "\n",
    "Bd = 0\n",
    "#D = np.matrix([0,1]).T\n",
    "\n",
    "\n",
    "Q = np.diag([1,0])     #var(y_gyro), var(y_offset)\n",
    "R = 1      #var(phix) , var(ygyro) [wird ignoriert, da in Q enthalten]\n",
    "\n",
    "N = len(data.time)\n",
    "x = list()\n",
    "P = list()\n",
    "K = list()\n",
    "\n",
    "for n in range(N):\n",
    "    #yn = y[n:(n+1),:].T\n",
    "    yn = y[n]\n",
    "    if n == 0:\n",
    "        xlast = np.matrix([0,0,-1]).T\n",
    "        Plast = np.diag([1,1,1])*100\n",
    "    else:\n",
    "        xlast = x[n-1]\n",
    "        Plast = P[n-1]\n",
    "    \n",
    "    x_priori = Ad * xlast\n",
    "    P_priori = Ad * Plast * Ad.T + Gd * Q * Gd.T\n",
    "    S = C * P_priori * C.T + R\n",
    "    Kn = P_priori * C.T * linalg.pinv(S)\n",
    "    x_post = x_priori + Kn*(yn - C*x_priori)\n",
    "    P_post = (np.eye(3) - Kn*C)*P_priori\n",
    "    \n",
    "    x.append(x_post)\n",
    "    P.append(P_post)\n",
    "    K.append(Kn)\n",
    "\n",
    "x = np.array(x).squeeze()\n",
    "P = np.array(P).squeeze()\n",
    "K = np.array(K).squeeze()\n",
    "\n",
    "###END SOLUTION\n",
    "\n",
    "plt.figure(figsize=(30, 5))\n",
    "plt.subplot(121)\n",
    "#plt.plot(data.time, y_phi, label='Acc-Data')\n",
    "plt.plot(data.time, x[:,0], label='Filter')\n",
    "plt.plot(data.time, y_gyro.cumsum()*Ts, label='Gyro Cumsum')\n",
    "#plt.plot(data.time, x[:,1].cumsum(), label='Offset Cumsum')\n",
    "\n",
    "#plt.plot(data.time, x[:,2], label='Offset')\n",
    "#plt.plot(data.time, x[:,1], label='phidot')\n",
    "#plt.plot(data.time, x[:,1]+x[:,2], label='phidot+offset')\n",
    "#plt.plot(data.time, y_gyro, label='Gyro')\n",
    "plt.grid()\n",
    "plt.legend()\n",
    "\n"
   ]
  },
  {
   "cell_type": "code",
   "execution_count": 37,
   "metadata": {},
   "outputs": [
    {
     "data": {
      "text/plain": [
       "array([[ -2.01940304e-02,  -6.11943647e-01,  -3.88063017e-01],\n",
       "       [ -4.59203327e-02,  -6.95902040e-01,  -3.04288909e-01],\n",
       "       [ -7.31429658e-02,  -7.39114161e-01,  -2.61358801e-01],\n",
       "       ..., \n",
       "       [  1.67091103e+02,  -1.95475152e+00,  -6.46996466e-01],\n",
       "       [  1.67028796e+02,  -1.95255220e+00,  -6.46996466e-01],\n",
       "       [  1.66961296e+02,  -1.95561786e+00,  -6.46996466e-01]])"
      ]
     },
     "execution_count": 37,
     "metadata": {},
     "output_type": "execute_result"
    }
   ],
   "source": [
    "x"
   ]
  },
  {
   "cell_type": "code",
   "execution_count": null,
   "metadata": {
    "collapsed": true
   },
   "outputs": [],
   "source": []
  }
 ],
 "metadata": {
  "kernelspec": {
   "display_name": "Python 3",
   "language": "python",
   "name": "python3"
  },
  "language_info": {
   "codemirror_mode": {
    "name": "ipython",
    "version": 3
   },
   "file_extension": ".py",
   "mimetype": "text/x-python",
   "name": "python",
   "nbconvert_exporter": "python",
   "pygments_lexer": "ipython3",
   "version": "3.6.5"
  },
  "toc": {
   "base_numbering": 1,
   "nav_menu": {},
   "number_sections": true,
   "sideBar": true,
   "skip_h1_title": false,
   "title_cell": "Table of Contents",
   "title_sidebar": "Contents",
   "toc_cell": false,
   "toc_position": {},
   "toc_section_display": true,
   "toc_window_display": false
  }
 },
 "nbformat": 4,
 "nbformat_minor": 2
}
